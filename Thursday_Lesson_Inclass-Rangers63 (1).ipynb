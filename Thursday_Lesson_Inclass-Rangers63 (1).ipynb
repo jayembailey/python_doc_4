{
 "cells": [
  {
   "cell_type": "markdown",
   "metadata": {},
   "source": [
    "# Object-Oriented-Programming (OOP)"
   ]
  },
  {
   "cell_type": "markdown",
   "metadata": {},
   "source": [
    "## Tasks Today:\n",
    "\n",
    "   \n",
    "\n",
    "1) <b>Creating a Class (Initializing/Declaring)</b> <br>\n",
    "2) <b>Using a Class (Instantiating)</b> <br>\n",
    " &nbsp;&nbsp;&nbsp;&nbsp; a) Creating One Instance <br>\n",
    " &nbsp;&nbsp;&nbsp;&nbsp; b) Creating Multiple Instances <br>\n",
    " &nbsp;&nbsp;&nbsp;&nbsp; c) In-Class Exercise #1 - Create a Class 'Car' and instantiate three different makes of cars <br>\n",
    "3) <b>The \\__init\\__() Method</b> <br>\n",
    " &nbsp;&nbsp;&nbsp;&nbsp; a) The 'self' Attribute <br>\n",
    "4) <b>Class Attributes</b> <br>\n",
    " &nbsp;&nbsp;&nbsp;&nbsp; a) Initializing Attributes <br>\n",
    " &nbsp;&nbsp;&nbsp;&nbsp; b) Setting an Attribute Outside of the \\__init\\__() Method <br>\n",
    " &nbsp;&nbsp;&nbsp;&nbsp; c) Setting Defaults for Attributes <br>\n",
    " &nbsp;&nbsp;&nbsp;&nbsp; d) Accessing Class Attributes <br>\n",
    " &nbsp;&nbsp;&nbsp;&nbsp; e) Changing Class Attributes <br>\n",
    " &nbsp;&nbsp;&nbsp;&nbsp; f) In-Class Exercise #2 - Add a color and wheels attribute to your 'Car' class <br>\n",
    "5) <b>Class Methods</b> <br>\n",
    " &nbsp;&nbsp;&nbsp;&nbsp; a) Creating <br>\n",
    " &nbsp;&nbsp;&nbsp;&nbsp; b) Calling <br>\n",
    " &nbsp;&nbsp;&nbsp;&nbsp; c) Modifying an Attribute's Value Through a Method <br>\n",
    " &nbsp;&nbsp;&nbsp;&nbsp; d) Incrementing an Attribute's Value Through a Method <br>\n",
    " &nbsp;&nbsp;&nbsp;&nbsp; e) In-Class Exercise #3 - Add a method that prints the cars color and wheel number, then call them <br>\n",
    "6) <b>Inheritance</b> <br>\n",
    " &nbsp;&nbsp;&nbsp;&nbsp; a) Syntax for Inheriting from a Parent Class <br>\n",
    " &nbsp;&nbsp;&nbsp;&nbsp; b) The \\__init\\__() Method for a Child Class (super()) <br>\n",
    " &nbsp;&nbsp;&nbsp;&nbsp; c) Defining Attributes and Methods for the Child Class <br>\n",
    " &nbsp;&nbsp;&nbsp;&nbsp; d) Method Overriding <br>\n",
    " &nbsp;&nbsp;&nbsp;&nbsp; e) In-Class Exercise #4 - Create a class 'Ford' that inherits from 'Car' class and initialize it as a Blue Ford Explorer with 4 wheels using the super() method <br>\n",
    "7) <b>Classes as Attributes</b> <br>\n",
    "8) <b>Exercises</b> <br>\n",
    " &nbsp;&nbsp;&nbsp;&nbsp; a) Exercise #1 - Turn the shopping cart program from yesterday into an object-oriented program <br>"
   ]
  },
  {
   "cell_type": "markdown",
   "metadata": {},
   "source": [
    "## Creating a Class (Initializing/Declaring)\n",
    "<p>When creating a class, function, or even a variable you are initializing that object. Initializing and Declaring occur at the same time in Python, whereas in lower level languages you have to declare an object before initializing it. This is the first step in the process of using a class.</p>"
   ]
  },
  {
   "cell_type": "code",
   "execution_count": 1,
   "metadata": {},
   "outputs": [],
   "source": [
    "class Car():\n",
    "    wheels = 4\n",
    "    color = 'blue'"
   ]
  },
  {
   "cell_type": "markdown",
   "metadata": {},
   "source": [
    "## Using a Class (Instantiating)\n",
    "<p>The process of creating a class is called <i>Instantiating</i>. Each time you create a variable of that type of class, it is referred to as an <i>Instance</i> of that class. This is the second step in the process of using a class.</p>"
   ]
  },
  {
   "cell_type": "markdown",
   "metadata": {},
   "source": [
    "##### Creating One Instance"
   ]
  },
  {
   "cell_type": "code",
   "execution_count": 3,
   "metadata": {},
   "outputs": [
    {
     "name": "stdout",
     "output_type": "stream",
     "text": [
      "blue\n"
     ]
    },
    {
     "ename": "AttributeError",
     "evalue": "'Car' object has no attribute 'windshield'",
     "output_type": "error",
     "traceback": [
      "\u001b[1;31m---------------------------------------------------------------------------\u001b[0m",
      "\u001b[1;31mAttributeError\u001b[0m                            Traceback (most recent call last)",
      "\u001b[1;32m~\\AppData\\Local\\Temp\\ipykernel_1800\\3078946923.py\u001b[0m in \u001b[0;36m<module>\u001b[1;34m\u001b[0m\n\u001b[0;32m      2\u001b[0m \u001b[1;33m\u001b[0m\u001b[0m\n\u001b[0;32m      3\u001b[0m \u001b[0mprint\u001b[0m\u001b[1;33m(\u001b[0m\u001b[0mford\u001b[0m\u001b[1;33m.\u001b[0m\u001b[0mcolor\u001b[0m\u001b[1;33m)\u001b[0m\u001b[1;33m\u001b[0m\u001b[1;33m\u001b[0m\u001b[0m\n\u001b[1;32m----> 4\u001b[1;33m \u001b[0mprint\u001b[0m\u001b[1;33m(\u001b[0m\u001b[0mford\u001b[0m\u001b[1;33m.\u001b[0m\u001b[0mwindshield\u001b[0m\u001b[1;33m)\u001b[0m\u001b[1;33m\u001b[0m\u001b[1;33m\u001b[0m\u001b[0m\n\u001b[0m",
      "\u001b[1;31mAttributeError\u001b[0m: 'Car' object has no attribute 'windshield'"
     ]
    }
   ],
   "source": [
    "ford = Car()\n",
    "\n",
    "print(ford.color)\n",
    "print(ford.windshield)"
   ]
  },
  {
   "cell_type": "markdown",
   "metadata": {},
   "source": [
    "##### Creating Multiple Instances"
   ]
  },
  {
   "cell_type": "code",
   "execution_count": 4,
   "metadata": {},
   "outputs": [
    {
     "name": "stdout",
     "output_type": "stream",
     "text": [
      "<class 'str'>\n"
     ]
    }
   ],
   "source": [
    "chevy = Car()\n",
    "honda = Car()\n",
    "porsche = Car()\n",
    "\n",
    "print(type(porsche.color))"
   ]
  },
  {
   "cell_type": "markdown",
   "metadata": {},
   "source": [
    "##### In-Class Exercise #1 - Create a Class 'Car' and Instantiate three different makes of cars"
   ]
  },
  {
   "cell_type": "code",
   "execution_count": 17,
   "metadata": {},
   "outputs": [
    {
     "name": "stdout",
     "output_type": "stream",
     "text": [
      "turn them on for safety\n"
     ]
    }
   ],
   "source": [
    "# doors, color, wheels\n",
    "\n",
    "class Car():\n",
    "    doors = 3\n",
    "    color = 'red'\n",
    "    wheels = 9\n",
    "    transmission = 'manual'\n",
    "    \n",
    "    def headlights(self):\n",
    "        print('turn them on for safety')\n",
    "    \n",
    "ferrari = Car()\n",
    "ranger = Car()\n",
    "Chrysler = Car()\n",
    "# print(ferrari.wheels)\n",
    "# print(ranger.transmission)\n",
    "\n",
    "ferrari.headlights()"
   ]
  },
  {
   "cell_type": "markdown",
   "metadata": {},
   "source": [
    "## The \\__init\\__() Method <br>\n",
    "<p>This method is used in almost every created class, and called only once upon the creation of the class instance. This method will initialize all variables needed for the object.</p>"
   ]
  },
  {
   "cell_type": "code",
   "execution_count": 15,
   "metadata": {},
   "outputs": [
    {
     "name": "stdout",
     "output_type": "stream",
     "text": [
      "4\n",
      "2.3L\n",
      "6\n",
      "blue\n"
     ]
    }
   ],
   "source": [
    "class Car():\n",
    "    engine = '2.3L'\n",
    "    \n",
    "    def __init__(self, color, wheels):\n",
    "        self.color = color\n",
    "        self.wheels = wheels\n",
    "    \n",
    "mazda = Car('black', 4)\n",
    "subaru = Car('blue', 6)\n",
    "print(mazda.wheels)\n",
    "print(mazda.engine)\n",
    "print(subaru.wheels)\n",
    "print(subaru.color)"
   ]
  },
  {
   "cell_type": "markdown",
   "metadata": {},
   "source": [
    "##### The 'self' Attribute <br>\n",
    "<p>This attribute is required to keep track of specific instance's attributes. Without the self attribute, the program would not know how to reference or keep track of an instance's attributes.</p>"
   ]
  },
  {
   "cell_type": "code",
   "execution_count": 54,
   "metadata": {},
   "outputs": [
    {
     "data": {
      "text/plain": [
       "'why the hell not?!'"
      ]
     },
     "execution_count": 54,
     "metadata": {},
     "output_type": "execute_result"
    }
   ],
   "source": [
    "# see above - need the 'self' or it won't work!\n",
    "\n",
    "class House():\n",
    "    \n",
    "    def __init__(self, dishes, wall):\n",
    "        self.dishes = dishes\n",
    "        self.wall = wall\n",
    "        \n",
    "    def doDishes(self):\n",
    "        if self.dishes == 'dirty':\n",
    "            return 'gross!'\n",
    "        \n",
    "    def rockWall(self):\n",
    "        if self.wall == 'yes':\n",
    "            return 'rock on!'\n",
    "        else:\n",
    "            return 'why the hell not?!'\n",
    "        \n",
    "jake_house = House('dirty', 'no')\n",
    "jake_house.doDishes()\n",
    "jake_house.rockWall()"
   ]
  },
  {
   "cell_type": "markdown",
   "metadata": {},
   "source": [
    "## Class Attributes <br>\n",
    "<p>While variables are inside of a class, they are referred to as attributes and not variables. When someone says 'attribute' you know they're speaking about a class. Attributes can be initialized through the init method, or outside of it.</p>"
   ]
  },
  {
   "cell_type": "markdown",
   "metadata": {},
   "source": [
    "##### Initializing Attributes"
   ]
  },
  {
   "cell_type": "code",
   "execution_count": 22,
   "metadata": {},
   "outputs": [],
   "source": [
    "class Toy():\n",
    "    kind = 'car' # this is called a 'constant'\n",
    "    \n",
    "    def __init__(self, rooftop, horn, wheels):\n",
    "        self.rooftop = rooftop\n",
    "        self.horn = horn\n",
    "        self.wheels = wheels\n",
    "        \n",
    "tonka_truck = Toy(1,1,4)\n",
    "hotwheels = Toy(2,3,8)\n"
   ]
  },
  {
   "cell_type": "markdown",
   "metadata": {},
   "source": [
    "##### Accessing Class Attributes"
   ]
  },
  {
   "cell_type": "code",
   "execution_count": 23,
   "metadata": {
    "scrolled": true
   },
   "outputs": [
    {
     "data": {
      "text/plain": [
       "8"
      ]
     },
     "execution_count": 23,
     "metadata": {},
     "output_type": "execute_result"
    }
   ],
   "source": [
    "tonka_truck.rooftop\n",
    "hotwheels.wheels"
   ]
  },
  {
   "cell_type": "markdown",
   "metadata": {},
   "source": [
    "##### Setting Defaults for Attributes"
   ]
  },
  {
   "cell_type": "code",
   "execution_count": 27,
   "metadata": {},
   "outputs": [
    {
     "data": {
      "text/plain": [
       "'blue'"
      ]
     },
     "execution_count": 27,
     "metadata": {},
     "output_type": "execute_result"
    }
   ],
   "source": [
    "class Car():\n",
    "    engine = '2.3L'\n",
    "    \n",
    "    def __init__(self, wheels):\n",
    "        self.wheels = wheels\n",
    "        self.color = 'blue'\n",
    "    \n",
    "honda = Car(4)\n",
    "honda.color"
   ]
  },
  {
   "cell_type": "markdown",
   "metadata": {},
   "source": [
    "##### Changing Class Attributes <br>\n",
    "<p>Keep in mind there are global class attributes and then there are attributes only available to each class instance which won't effect other classes.</p>"
   ]
  },
  {
   "cell_type": "code",
   "execution_count": 28,
   "metadata": {},
   "outputs": [
    {
     "name": "stdout",
     "output_type": "stream",
     "text": [
      "before: blue\n",
      "\n",
      " after: white\n"
     ]
    }
   ],
   "source": [
    "jeep = Car(8)\n",
    "\n",
    "print(f'before: {jeep.color}')\n",
    "      \n",
    "jeep.color = 'white'\n",
    "\n",
    "print(f'\\n after: {jeep.color}')"
   ]
  },
  {
   "cell_type": "code",
   "execution_count": 30,
   "metadata": {},
   "outputs": [],
   "source": []
  },
  {
   "cell_type": "markdown",
   "metadata": {},
   "source": [
    "##### In-Class Exercise #2 - Add a doors and seats attribute to your 'Car' class then print out two different instances with different doors and seats"
   ]
  },
  {
   "cell_type": "code",
   "execution_count": 55,
   "metadata": {},
   "outputs": [
    {
     "name": "stdout",
     "output_type": "stream",
     "text": [
      "2\n",
      "12\n",
      "blue\n",
      "red\n",
      "red\n",
      "bmws have 2 seats and 12 doors\n"
     ]
    }
   ],
   "source": [
    "bmw = Car(8)\n",
    "bmw.seats = 2\n",
    "print(bmw.seats)\n",
    "bmw.doors = 12\n",
    "print(bmw.doors)\n",
    "print(bmw.color)\n",
    "print(jeep.color)\n",
    "jeep.color = 'red'\n",
    "print(jeep.color)\n",
    "print(f'bmws have {bmw.seats} seats and {bmw.doors} doors')"
   ]
  },
  {
   "cell_type": "markdown",
   "metadata": {},
   "source": [
    "## Class Methods <br>\n",
    "<p>While inside of a class, functions are referred to as 'methods'. If you hear someone mention methods, they're speaking about classes. Methods are essentially functions, but only callable on the instances of a class.</p>"
   ]
  },
  {
   "cell_type": "markdown",
   "metadata": {},
   "source": [
    "##### Creating"
   ]
  },
  {
   "cell_type": "code",
   "execution_count": 75,
   "metadata": {},
   "outputs": [],
   "source": [
    "class ShoppingBag():\n",
    "    \n",
    "    '''\n",
    "    The ShoppingBag class will have handles, capacity, and items to \n",
    "    place inside.\n",
    "    \n",
    "    Attributes for the class:\n",
    "    - handles: expeted to be an integer\n",
    "    - capactiy: exp to be a string OR an integer\n",
    "    - items: exp to be a list\n",
    "    '''\n",
    "    \n",
    "    def __init__(self, handles, capacity, items):\n",
    "        self.handles = handles\n",
    "        self.capacity = capacity\n",
    "        self.items = items\n",
    "        \n",
    "# Write a method that shows the items in the bag\n",
    "    def showBag(self):\n",
    "        if self.items == []:\n",
    "            print('bag is empty!')\n",
    "        else:\n",
    "            print('this is your bag:')\n",
    "            for item in self.items:\n",
    "                print(item)\n",
    "            \n",
    "# Write a method that shows the capacity remaining in the bag            \n",
    "    def showCapacity(self):\n",
    "        print(f'you have {self.capacity} items left')\n",
    "    \n",
    "# Write a method that adds items\n",
    "    def addItems(self):\n",
    "        if len(self.items) >= self.capacity:\n",
    "            print('bag full, no more items')   \n",
    "        else:\n",
    "            new_item = input('what you addin, aladdin?')\n",
    "            self.items.append(new_item)\n",
    "        \n",
    "        \n",
    "# Write a method that changes the capacity of the bag        \n",
    "    def changeCapacity(self, capacity):\n",
    "        self.capacity = capacity\n",
    "        \n",
    "# Method that increases the capacity of the bag, default to 10        \n",
    "    def increaseCapacity(self, changed_capacity = 10):\n",
    "        if changed_capacity == isinstance(self.capacity, str):\n",
    "            print('that aint no number!')\n",
    "        else:\n",
    "            self.capacity += changed_capacity\n",
    "            \n"
   ]
  },
  {
   "cell_type": "markdown",
   "metadata": {},
   "source": [
    "##### Calling"
   ]
  },
  {
   "cell_type": "code",
   "execution_count": 82,
   "metadata": {},
   "outputs": [
    {
     "name": "stdout",
     "output_type": "stream",
     "text": [
      "what you want? add/show/quitquit\n",
      "bag is empty!\n",
      "thanks for shopping!\n"
     ]
    }
   ],
   "source": [
    "my_bag = ShoppingBag(2,5,[])\n",
    "\n",
    "# Create a func to run the ShoppingBag methods on our my_bag instance\n",
    "def run():\n",
    "    while True:\n",
    "        response = input('what you want? add/show/quit')\n",
    "        if response.lower() == 'quit':\n",
    "            my_bag.showBag()\n",
    "            print('thanks for shopping!')\n",
    "            break\n",
    "        elif response.lower() == 'add':\n",
    "            my_bag.addItems()\n",
    "        elif response.lower() == 'show':\n",
    "            my_bag.showBag()\n",
    "        else:\n",
    "            print('try another command')\n",
    "\n",
    "my_bag.changeCapacity(3)        \n",
    "run()"
   ]
  },
  {
   "cell_type": "markdown",
   "metadata": {},
   "source": [
    "##### Modifying an Attribute's Value Through a Method"
   ]
  },
  {
   "cell_type": "code",
   "execution_count": 77,
   "metadata": {},
   "outputs": [
    {
     "name": "stdout",
     "output_type": "stream",
     "text": [
      "you have 3 items left\n",
      "capacity after change:\n",
      "you have 8 items left\n"
     ]
    }
   ],
   "source": [
    "my_bag.showCapacity()\n",
    "print('capacity after change:')\n",
    "my_bag.changeCapacity(8)\n",
    "my_bag.showCapacity()"
   ]
  },
  {
   "cell_type": "markdown",
   "metadata": {},
   "source": [
    "##### Incrementing an Attribute's Value Through a Method"
   ]
  },
  {
   "cell_type": "code",
   "execution_count": 78,
   "metadata": {},
   "outputs": [
    {
     "name": "stdout",
     "output_type": "stream",
     "text": [
      "you have 8 items left\n",
      "you have 18 items left\n"
     ]
    }
   ],
   "source": [
    "my_bag.showCapacity()\n",
    "my_bag.increaseCapacity()\n",
    "my_bag.showCapacity()"
   ]
  },
  {
   "cell_type": "markdown",
   "metadata": {},
   "source": [
    "##### In-Class Exercise #3 - Add a method that takes in three parameters of year, doors and seats and prints out a formatted print statement with make, model, year, seats, and doors"
   ]
  },
  {
   "cell_type": "code",
   "execution_count": 16,
   "metadata": {},
   "outputs": [
    {
     "name": "stdout",
     "output_type": "stream",
     "text": [
      "what is the year?2005 \n",
      "doors?2\n",
      "seats?2\n",
      "My car is a 2005  Ford Ranger. It has 2 doors and 2 seats\n",
      "what is the year?1984\n",
      "doors?2\n",
      "seats?4\n",
      "My car is a 1984 Ford Ranger. It has 2 doors and 4 seats\n"
     ]
    }
   ],
   "source": [
    "# Create class with 2 paramters inside of the __init__ which are make and model\n",
    "\n",
    "# Inside of the Car class create a method that has 4 parameter in total (self,year,door,seats)\n",
    "\n",
    "# Output: This car is from 2019 and is a Ford Expolorer and has 4 doors and 5 seats\n",
    "\n",
    "class Car():\n",
    "    \n",
    "    def __init__(self, make, model):\n",
    "        self.make = make\n",
    "        self.model = model\n",
    "        \n",
    "    def moreInfo(self):\n",
    "        self.year = input('what is the year?')\n",
    "        self.doors = input('doors?')\n",
    "        self.seats = input('seats?')\n",
    "        print(f'My car is a {self.year} {self.make} {self.model}. It has {self.doors} doors and {self.seats} seats')\n",
    "        \n",
    "my_car = Car('Ford', 'Ranger')\n",
    "\n",
    "def showCar():\n",
    "\n",
    "    my_car.moreInfo()\n",
    "            \n",
    "showCar()\n",
    "showCar()"
   ]
  },
  {
   "cell_type": "markdown",
   "metadata": {},
   "source": [
    "## Inheritance <br>\n",
    "<p>You can create a child-parent relationship between two classes by using inheritance. What this allows you to do is have overriding methods, but also inherit traits from the parent class. Think of it as an actual parent and child, the child will inherit the parent's genes, as will the classes in OOP</p>"
   ]
  },
  {
   "cell_type": "markdown",
   "metadata": {},
   "source": [
    "##### Syntax for Inheriting from a Parent Class"
   ]
  },
  {
   "cell_type": "code",
   "execution_count": 25,
   "metadata": {},
   "outputs": [
    {
     "name": "stdout",
     "output_type": "stream",
     "text": [
      "bark\n",
      "make some generic sound\n",
      "None\n",
      "9.8\n"
     ]
    },
    {
     "data": {
      "text/plain": [
       "15"
      ]
     },
     "execution_count": 25,
     "metadata": {},
     "output_type": "execute_result"
    }
   ],
   "source": [
    "# create a parten class and cal in Animal\n",
    "class Animal():\n",
    "    acceleration = 9.8\n",
    "    \n",
    "    def __init__(self, name, species, legs = 4):\n",
    "        self.name = name\n",
    "        self.species = species\n",
    "        self.legs = legs\n",
    "        \n",
    "#     generic parent method - this is not overriding anything\n",
    "    def makeSound(self):\n",
    "        print('make some generic sound')\n",
    "        \n",
    "# now we create the child\n",
    "class Dog(Animal):\n",
    "    speed = 15\n",
    "    \n",
    "    def printInfo(self):\n",
    "        print(f'the dog has {self.speed}mph in speed and {self.acceleration}')\n",
    "\n",
    "# grandchild? oh yeah\n",
    "class Mutt(Dog):\n",
    "    color = \"tan\"\n",
    "    \n",
    "#     override Animal class, using Dog class to overwrite the __init__from Animal\n",
    "    def __init__(self, name, species, eye_color, legs = 4):\n",
    "        Dog.__init__(self, name, species, legs)\n",
    "        self.eye_color = eye_color\n",
    "        \n",
    "#     override the makeSound method (coming from Animal)\n",
    "    def makeSound(self):\n",
    "        noise = 'bark'\n",
    "        return noise\n",
    "        \n",
    "lassie = Dog('Lassie', 'dog')\n",
    "basic_animal = Animal('generic animal name', 'generic animal species')\n",
    "buster = Mutt('buster', 'mutt', 'brown')\n",
    "\n",
    "print(buster.makeSound())\n",
    "print(lassie.makeSound())\n",
    "print(buster.acceleration)\n",
    "buster.speed\n"
   ]
  },
  {
   "cell_type": "markdown",
   "metadata": {},
   "source": [
    "##### The \\__init\\__() Method for a Child Class - super()"
   ]
  },
  {
   "cell_type": "code",
   "execution_count": 27,
   "metadata": {
    "scrolled": true
   },
   "outputs": [
    {
     "name": "stdout",
     "output_type": "stream",
     "text": [
      "bark\n",
      "make some generic sound\n",
      "None\n",
      "9.8\n"
     ]
    },
    {
     "data": {
      "text/plain": [
       "15"
      ]
     },
     "execution_count": 27,
     "metadata": {},
     "output_type": "execute_result"
    }
   ],
   "source": [
    "class Puppy(Dog):\n",
    "    color = 'black and brown'\n",
    "    \n",
    "#  override th Animal class '__init__' (via Dog class)\n",
    "# using 'super()' instead of 'Dog' goes all the way up to the top tier\n",
    "# class, i.e. 'Animal' in this case\n",
    "    def __init__(self, name, species, eye_color, legs = 4):\n",
    "        super().__init__(name, species, legs)\n",
    "        self.eye_color = eye_color\n",
    "        \n",
    "# override makeSound method from Animal\n",
    "        def makeSound(self):\n",
    "            noise = 'bark'\n",
    "            return noise\n",
    "        \n",
    "lassie = Dog('Lassie', 'dog')\n",
    "basic_animal = Animal('generic animal name', 'generic animal species')\n",
    "buster = Mutt('buster', 'mutt', 'brown')\n",
    "\n",
    "print(buster.makeSound())\n",
    "print(lassie.makeSound())\n",
    "print(buster.acceleration)\n",
    "buster.speed"
   ]
  },
  {
   "cell_type": "markdown",
   "metadata": {},
   "source": [
    "##### Defining Attributes and Methods for the Child Class"
   ]
  },
  {
   "cell_type": "code",
   "execution_count": null,
   "metadata": {},
   "outputs": [],
   "source": [
    "# See Above"
   ]
  },
  {
   "cell_type": "markdown",
   "metadata": {},
   "source": [
    "##### Method Overriding"
   ]
  },
  {
   "cell_type": "code",
   "execution_count": null,
   "metadata": {},
   "outputs": [],
   "source": [
    "# See Above"
   ]
  },
  {
   "cell_type": "markdown",
   "metadata": {},
   "source": [
    "## Classes as Attributes <br>\n",
    "<p>Classes can also be used as attributes within another class. This is useful in situations where you need to keep variables locally stored, instead of globally stored.</p>"
   ]
  },
  {
   "cell_type": "code",
   "execution_count": 31,
   "metadata": {},
   "outputs": [
    {
     "name": "stdout",
     "output_type": "stream",
     "text": [
      "20\n",
      "20\n"
     ]
    },
    {
     "data": {
      "text/plain": [
       "' 2019 Tesla Model X 20'"
      ]
     },
     "execution_count": 31,
     "metadata": {},
     "output_type": "execute_result"
    }
   ],
   "source": [
    "class Battery():\n",
    "    volts = 7.8\n",
    "    def __init__(self, cells):\n",
    "        self.cells = cells\n",
    "        \n",
    "class Car():\n",
    "    def __init__(self, year, make, model, battery):\n",
    "        self.year = year\n",
    "        self.make = make\n",
    "        self.model = model\n",
    "        self.battery = battery\n",
    "        \n",
    "    def showInfo(self):\n",
    "        return f' {self.year} {self.make} {self. model} {self.battery.cells}'\n",
    "        \n",
    "my_battery = Battery(20)\n",
    "tesla = Car(2019, 'Tesla', 'Model X', my_battery)\n",
    "\n",
    "print(my_battery.cells)\n",
    "print(tesla.battery.cells)\n",
    "tesla.showInfo()"
   ]
  },
  {
   "cell_type": "markdown",
   "metadata": {},
   "source": [
    "# Exercises"
   ]
  },
  {
   "cell_type": "markdown",
   "metadata": {},
   "source": [
    "### Exercise 1 - Turn the shopping cart program from yesterday into an object-oriented program\n",
    "\n",
    "The comments in the cell below are there as a guide for thinking about the problem. However, if you feel a different way is best for you and your own thought process, please do what feels best for you by all means."
   ]
  },
  {
   "cell_type": "code",
   "execution_count": 69,
   "metadata": {},
   "outputs": [
    {
     "name": "stdout",
     "output_type": "stream",
     "text": [
      "My cart contains ['red', 'blue'].\n",
      "Your cart contains ['sausage', 'cheese'].\n"
     ]
    }
   ],
   "source": [
    "# Create a class called cart that retains items and has methods\n",
    "# to add, remove, and show\n",
    "\n",
    "# what does this look like as a class?\n",
    "\n",
    "# Hello, Mr. Donovan! I did this two different ways, and I hope they can\n",
    "# both be appreciated. All the methods in the Car() class that precede the \n",
    "# shoppingTime() method do function on their own when called (calls can\n",
    "# be found at the bottom). I found that a more fun way would be to use a \n",
    "# loop to make it more interactive via the shoppingTime() method. There is\n",
    "# a note displayed when the cart is at capacity, and both carts are\n",
    "# displayed after the 2nd method is terminated. Thank you for checking \n",
    "# it out. I hope you have fun!\n",
    "\n",
    "from IPython.display import clear_output\n",
    "\n",
    "class Cart():\n",
    "    def __init__(self, capacity, items):\n",
    "        self.capacity = capacity\n",
    "        self.items = items\n",
    "    def addItems(self):\n",
    "        new_item = input('whatcha addin, aladdin? ')\n",
    "        self.items.append(new_item)\n",
    "    def showCart(self):\n",
    "        print(self.items)\n",
    "    def removeItems(self):\n",
    "        less_item = input('what doth thou removest?')\n",
    "        self.items.remove(less_item)\n",
    "    \n",
    "    def shoppingTime(self):\n",
    "        while True:\n",
    "            option = input(\"do you want to show/add/delete and item or quit?\")\n",
    "            if option == 'add':\n",
    "                if len(self.items) >= self.capacity:\n",
    "                    clear_output()\n",
    "                    print('Cart is full')\n",
    "                else:\n",
    "                    item = input('what would you like to add?')\n",
    "                    if item == 'quit':\n",
    "                        print(\"Your cart: \")\n",
    "                        print(self.items)\n",
    "                        break\n",
    "                    else:\n",
    "                        self.items.append(item)\n",
    "                        clear_output()\n",
    "            elif option == 'delete':\n",
    "                item = input('what would you like to delete?')\n",
    "                if item == 'quit':\n",
    "                    print(\"Your cart: \")\n",
    "                    print(self.items)\n",
    "                    break\n",
    "                else:\n",
    "                    if item not in self.items:\n",
    "                        print('item not in cart')\n",
    "                    else:\n",
    "                        self.items.remove(item)\n",
    "                        clear_output()\n",
    "            elif option == 'show':\n",
    "                if self.items == []:\n",
    "                    clear_output()\n",
    "                    print('Your cart is empty!')\n",
    "                else:\n",
    "                    clear_output()\n",
    "                    print(\"Your cart: \")\n",
    "                    print(self.items)\n",
    "            elif option == 'quit':\n",
    "                print(\"Your cart: \")\n",
    "                print(self.items)\n",
    "                break\n",
    "            else:\n",
    "                clear_output()\n",
    "                print('Please enter \"add\", \"delete\", or \"show\", or enter \"quit\" to exit program.')\n",
    "        \n",
    "\n",
    "\n",
    "my_cart = Cart(3, [])\n",
    "your_cart = Cart(4, [])\n",
    "\n",
    "my_cart.shoppingTime()\n",
    "your_cart.shoppingTime()\n",
    "clear_output()\n",
    "print(f'My cart contains {my_cart.items}.')\n",
    "print(f'Your cart contains {your_cart.items}.')\n",
    "\n",
    "# my_cart.addItems()\n",
    "# my_cart.addItems()\n",
    "# my_cart.showCart()\n",
    "# my_cart.removeItems()\n",
    "# my_cart.showCart()"
   ]
  },
  {
   "cell_type": "markdown",
   "metadata": {},
   "source": [
    "### Exercise 2 - Write a Python class which has two methods get_String and print_String. get_String accept a string from the user and print_String print the string in upper case"
   ]
  },
  {
   "cell_type": "code",
   "execution_count": 94,
   "metadata": {},
   "outputs": [
    {
     "name": "stdout",
     "output_type": "stream",
     "text": [
      "gimme string: smello world!\n",
      "SMELLO WORLD!\n",
      "HELLO WORLD!\n"
     ]
    }
   ],
   "source": [
    "# Hello again! Here are 2 different ways to solve this: one with an input\n",
    "# that requires no arguments upon calling the method and one that requires\n",
    "# no input becuase of the argument passed through the method call.\n",
    "# Thank you!\n",
    "\n",
    "class Python():\n",
    "    def __init__(self):\n",
    "        self = self\n",
    "        \n",
    "    def get_string(self):\n",
    "        self.string = input('gimme string: ')\n",
    "        \n",
    "    def print_string(self):\n",
    "        print(self.string.upper())\n",
    "        \n",
    "my_string = Python()\n",
    "\n",
    "my_string.get_string()\n",
    "my_string.print_string()\n",
    "\n",
    "\n",
    "class Python():\n",
    "    def __init__(self, string):\n",
    "        self.string = string\n",
    "        \n",
    "    def get_string(self):\n",
    "        return self.string\n",
    "    \n",
    "    def print_string(self):\n",
    "        print(self.string.upper())\n",
    "        \n",
    "my_string = Python('hello world!')\n",
    "\n",
    "my_string.get_string()\n",
    "my_string.print_string()\n"
   ]
  },
  {
   "cell_type": "code",
   "execution_count": null,
   "metadata": {},
   "outputs": [],
   "source": []
  }
 ],
 "metadata": {
  "kernelspec": {
   "display_name": "Python 3 (ipykernel)",
   "language": "python",
   "name": "python3"
  },
  "language_info": {
   "codemirror_mode": {
    "name": "ipython",
    "version": 3
   },
   "file_extension": ".py",
   "mimetype": "text/x-python",
   "name": "python",
   "nbconvert_exporter": "python",
   "pygments_lexer": "ipython3",
   "version": "3.9.13"
  }
 },
 "nbformat": 4,
 "nbformat_minor": 2
}
